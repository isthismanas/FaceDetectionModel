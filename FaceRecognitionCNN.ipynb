{
 "cells": [
  {
   "cell_type": "code",
   "execution_count": 1,
   "metadata": {},
   "outputs": [],
   "source": [
    "import numpy as np\n",
    "import pandas as pd\n",
    "import matplotlib.pyplot as plt \n",
    "import tensorflow as tf\n",
    "import sklearn\n",
    "import glob"
   ]
  },
  {
   "cell_type": "code",
   "execution_count": 2,
   "metadata": {},
   "outputs": [],
   "source": [
    "AkshayKumarfilepaths = glob.glob('dataset\\Faces\\Original Images\\Original Images\\Akshay Kumar\\*.jpg') +glob.glob('dataset\\Faces\\Faces\\Faces\\Akshay Kumar_*.jpg')\n",
    "Alexandrafilepaths = glob.glob('dataset\\Faces\\Original Images\\Original Images\\Alexandra Daddario\\*.jpg') + glob.glob('dataset\\Faces\\Faces\\Faces\\Alexandra Daddario_*.jpg')\n",
    "AliaBhattfilepaths = glob.glob('dataset\\Faces\\Original Images\\Original Images\\Alia Bhatt\\*.jpg') + glob.glob('dataset\\Faces\\Faces\\Faces\\Alia Bhatt_*.jpg')\n",
    "Courtneyfilepaths = glob.glob('dataset\\Faces\\Original Images\\Original Images\\Courtney Cox\\*.jpg') + glob.glob('dataset\\Faces\\Faces\\Faces\\Courtney Cox_*.jpg')"
   ]
  },
  {
   "cell_type": "code",
   "execution_count": 3,
   "metadata": {},
   "outputs": [],
   "source": [
    "AkshayKumarFDataset = tf.data.Dataset.from_tensor_slices(AkshayKumarfilepaths)\n",
    "AlexandraFDataset = tf.data.Dataset.from_tensor_slices(Alexandrafilepaths)\n",
    "AliaDataset = tf.data.Dataset.from_tensor_slices(AliaBhattfilepaths)\n",
    "CourtneyDataset = tf.data.Dataset.from_tensor_slices(Courtneyfilepaths)"
   ]
  },
  {
   "cell_type": "code",
   "execution_count": 4,
   "metadata": {},
   "outputs": [],
   "source": [
    "def preprocess_images(path):\n",
    "    img = tf.io.read_file(path)\n",
    "    img = tf.image.decode_image(img, channels = 3)\n",
    "    img = tf.cast(img , tf.float32) / 255.0\n",
    "    img = tf.image.resize_with_pad(img , 250 ,250 )\n",
    "    return img\n",
    "\n",
    "data_augmentation = tf.keras.Sequential([tf.keras.layers.RandomFlip(mode = 'horizontal' , seed = 42),\n",
    "                                         tf.keras.layers.RandomRotation(factor = 0.05, seed = 42),\n",
    "                                         tf.keras.layers.RandomContrast(factor = 0.2, seed = 42)])"
   ]
  },
  {
   "cell_type": "code",
   "execution_count": 5,
   "metadata": {},
   "outputs": [],
   "source": [
    "AkhshayTensor = tf.TensorArray(tf.float32, size = 0, dynamic_size = True )\n",
    "AlexandraTensor = tf.TensorArray(tf.float32, size = 0 , dynamic_size = True)\n",
    "AliaTensor = tf.TensorArray(tf.float32, size = 0, dynamic_size= True)\n",
    "CourtneyTensor = tf.TensorArray(tf.float32, size = 0, dynamic_size = True)"
   ]
  },
  {
   "cell_type": "code",
   "execution_count": 6,
   "metadata": {},
   "outputs": [],
   "source": [
    "AkshayKumarFDataset = AkshayKumarFDataset.map(preprocess_images)\n",
    "AlexandraFDataset = AlexandraFDataset.map(preprocess_images)\n",
    "AliaDataset = AliaDataset.map(preprocess_images)\n",
    "CourtneyDataset = CourtneyDataset.map(preprocess_images)"
   ]
  },
  {
   "cell_type": "code",
   "execution_count": 7,
   "metadata": {},
   "outputs": [],
   "source": [
    "for img in AkshayKumarFDataset:\n",
    "    AkhshayTensor = AkhshayTensor.write(AkhshayTensor.size(), img)\n",
    "for img in AlexandraFDataset:\n",
    "    AlexandraTensor = AlexandraTensor.write(AlexandraTensor.size(), img)\n",
    "for img in AliaDataset:\n",
    "    AliaTensor = AliaTensor.write(AliaTensor.size(), img)\n",
    "for img in CourtneyDataset:\n",
    "    CourtneyTensor = CourtneyTensor.write(CourtneyTensor.size(), img)           "
   ]
  },
  {
   "cell_type": "code",
   "execution_count": 8,
   "metadata": {},
   "outputs": [],
   "source": [
    "AkhshayTensor = AkhshayTensor.stack()\n",
    "AlexandraTensor = AlexandraTensor.stack()\n",
    "AliaTensor = AliaTensor.stack()\n",
    "CourtneyTensor = CourtneyTensor.stack()"
   ]
  },
  {
   "cell_type": "code",
   "execution_count": 9,
   "metadata": {},
   "outputs": [],
   "source": [
    "AkshayLabels = tf.ones(AkhshayTensor.shape[0]*2, 1) - 1\n",
    "AlexandraLabels = tf.ones(AlexandraTensor.shape[0]*2, 1) * 2 - 1\n",
    "AliaLabels = tf.ones(AliaTensor.shape[0]*2, 1)*3 - 1\n",
    "CourtneyLabels = tf.ones(CourtneyTensor.shape[0]*2, 1)*4 - 1"
   ]
  },
  {
   "cell_type": "code",
   "execution_count": 10,
   "metadata": {},
   "outputs": [],
   "source": [
    "AugAk = data_augmentation(AkhshayTensor)\n",
    "AugAlex = data_augmentation(AlexandraTensor)\n",
    "AugAlia = data_augmentation(AliaTensor)\n",
    "AugCourtney = data_augmentation(CourtneyTensor)"
   ]
  },
  {
   "cell_type": "code",
   "execution_count": 11,
   "metadata": {},
   "outputs": [],
   "source": [
    "AkFinal = tf.concat([AkhshayTensor, AugAk], axis = 0)\n",
    "AlexFinal = tf.concat([AlexandraTensor, AugAlex], axis = 0)\n",
    "AliaFinal = tf.concat([AliaTensor, AugAlia], axis = 0)\n",
    "CourtneyFinal = tf.concat([CourtneyTensor, AugCourtney], axis = 0)"
   ]
  },
  {
   "cell_type": "code",
   "execution_count": 12,
   "metadata": {},
   "outputs": [],
   "source": [
    "AkImgDataset = tf.data.Dataset.from_tensor_slices((AkFinal, AkshayLabels))\n",
    "AlexImgDataset = tf.data.Dataset.from_tensor_slices((AlexFinal, AlexandraLabels))\n",
    "AliaImgDataset = tf.data.Dataset.from_tensor_slices((AliaFinal, AliaLabels))\n",
    "CourtneyImgDataset = tf.data.Dataset.from_tensor_slices((CourtneyFinal, CourtneyLabels))"
   ]
  },
  {
   "cell_type": "code",
   "execution_count": 13,
   "metadata": {},
   "outputs": [],
   "source": [
    "Aksplitindex  = int(0.8*(len(AkFinal)))\n",
    "Alexsplitindex = int(0.8*(len(AlexFinal)))\n",
    "Aliasplitindex = int(0.8*(len(AliaFinal)))\n",
    "Courtneysplitindex = int(0.8*(len(CourtneyFinal)))\n",
    "\n",
    "AkImgDataset = AkImgDataset.shuffle(buffer_size=len(AkFinal), seed=1)\n",
    "Aktrain_dataset = AkImgDataset.take(Aksplitindex)\n",
    "Akval_dataset = AkImgDataset.skip(Aksplitindex)\n",
    "\n",
    "AlexImgDataset = AlexImgDataset.shuffle(buffer_size= len(AlexFinal), seed = 1)\n",
    "Alextrain_dataset = AlexImgDataset.take(Alexsplitindex)\n",
    "Alexval_dataset = AlexImgDataset.skip(Alexsplitindex)\n",
    "\n",
    "AliaImgDataset = AliaImgDataset.shuffle(buffer_size= len(AliaFinal), seed = 1)\n",
    "Aliatrain_dataset = AliaImgDataset.take(Aliasplitindex)\n",
    "Aliaval_dataset = AliaImgDataset.skip(Aliasplitindex)\n",
    "\n",
    "CourtneyImgDataset = CourtneyImgDataset.shuffle(buffer_size= len(CourtneyFinal), seed = 1)\n",
    "Courtneytrain_dataset = CourtneyImgDataset.take(Courtneysplitindex)\n",
    "Courtneyval_dataset = CourtneyImgDataset.skip(Courtneysplitindex)\n",
    "\n",
    "train_dataset = Aktrain_dataset.concatenate(Alextrain_dataset).concatenate(Aliatrain_dataset).concatenate(Courtneytrain_dataset)\n",
    "val_dataset = Akval_dataset.concatenate(Alexval_dataset).concatenate(Aliaval_dataset).concatenate(Courtneyval_dataset)"
   ]
  },
  {
   "cell_type": "code",
   "execution_count": 14,
   "metadata": {},
   "outputs": [],
   "source": [
    "train_dataset = train_dataset.batch(32)\n",
    "val_dataset = val_dataset.batch(32)"
   ]
  },
  {
   "cell_type": "markdown",
   "metadata": {},
   "source": [
    "## Utility Functions"
   ]
  },
  {
   "cell_type": "code",
   "execution_count": 15,
   "metadata": {},
   "outputs": [],
   "source": [
    "from pathlib import Path\n",
    "from time import strftime\n",
    "\n",
    "def get_run_logdir(root_logdir='FaceRecogLogs'):\n",
    "  return Path(root_logdir)/strftime('rin_%Y_%m_%d_%H_%M_%S')\n",
    "\n",
    "logdir = get_run_logdir()"
   ]
  },
  {
   "cell_type": "code",
   "execution_count": 16,
   "metadata": {},
   "outputs": [],
   "source": [
    "import os\n",
    "\n",
    "\n",
    "model_dir = 'model'\n",
    "os.makedirs(model_dir, exist_ok=True)\n",
    "\n",
    "model_path = os.path.join(model_dir, 'FaceRecognition_best.keras')"
   ]
  },
  {
   "cell_type": "markdown",
   "metadata": {},
   "source": [
    "## Model"
   ]
  },
  {
   "cell_type": "code",
   "execution_count": 17,
   "metadata": {},
   "outputs": [],
   "source": [
    "class FaceDetectionCNN(tf.keras.Model):\n",
    "  def __init__(self, **kwargs):\n",
    "    super().__init__(**kwargs)\n",
    "    self.preprocess_inputs_ = tf.keras.applications.inception_v3.preprocess_input\n",
    "    self.base_model = tf.keras.applications.InceptionV3(weights = 'imagenet', include_top=False)\n",
    "    self.EmbeddingNet_ = tf.keras.Sequential([\n",
    "                                             tf.keras.layers.Dense(256, activation = tf.keras.activations.relu,\n",
    "                                                                   kernel_regularizer = tf.keras.regularizers.l2(0.1),\n",
    "                                                                   kernel_initializer = tf.keras.initializers.he_normal()),\n",
    "                                             tf.keras.layers.BatchNormalization(),                      \n",
    "                                             tf.keras.layers.Dense(256, activation = tf.keras.activations.relu,\n",
    "                                                                   kernel_regularizer = tf.keras.regularizers.l2(0.1)),\n",
    "                                             tf.keras.layers.Dropout(0.2),\n",
    "                                             tf.keras.layers.Dense(128, activation = tf.keras.activations.relu,\n",
    "                                                                   kernel_initializer = tf.keras.initializers.glorot_normal()),\n",
    "                                             tf.keras.layers.BatchNormalization(),                      \n",
    "                                             tf.keras.layers.Dropout(0.2),                      \n",
    "                                             tf.keras.layers.Dense(64, activation = tf.keras.activations.relu,\n",
    "                                                                   kernel_regularizer = tf.keras.regularizers.l2(0.1)),\n",
    "                                             tf.keras.layers.Dropout(0.2),\n",
    "                                             tf.keras.layers.Dense(32, activation = tf.keras.activations.relu)\n",
    "                                             ])\n",
    "    self.GlobAvg_ = tf.keras.layers.GlobalAveragePooling2D()\n",
    "    self.classifier = tf.keras.layers.Dense(4, activation = 'softmax')\n",
    "\n",
    "  def call(self, inputs, training = False):\n",
    "    x = inputs\n",
    "    processed_inputs = self.preprocess_inputs_(x)\n",
    "    x = self.base_model(processed_inputs, training = training)\n",
    "    x = self.GlobAvg_(x)\n",
    "    embeddings = self.EmbeddingNet_(x, training = training)\n",
    "    return self.classifier(embeddings)\n",
    "  \n",
    "  def get_config(self):\n",
    "    base_config = super().get_config()\n",
    "    base_config.update({'preprocess_inputs_': self.preprocess_inputs_ ,\n",
    "                        'base_model' : self.base_model})\n",
    "    return base_config"
   ]
  },
  {
   "cell_type": "code",
   "execution_count": 18,
   "metadata": {},
   "outputs": [],
   "source": [
    "class DelayModelGraphs(tf.keras.callbacks.Callback):\n",
    "    def __init__(self, unfreeze_epoch,new_lr = None, **kwargs):\n",
    "        super().__init__(**kwargs)\n",
    "        self.unfreeze_epoch = unfreeze_epoch\n",
    "        self.DelayedLr_ = new_lr\n",
    "\n",
    "    def on_epoch_begin(self, epoch , logs = None):\n",
    "        if epoch == self.unfreeze_epoch:\n",
    "            self.model.base_model.trainable = True\n",
    "            if self.DelayedLr_ is not(None):\n",
    "              self.model.base_model.compile(optimizer = tf.keras.optimizers.Adam(learning_rate = self.DelayedLr_))\n",
    "            print('Unfreezing base model')\n",
    "\n",
    "class UpdateCurrentEpoch(tf.keras.callbacks.Callback):\n",
    "    def __init__(self, **kwargs):\n",
    "        super().__init__(**kwargs)\n",
    "        self.current_epoch = 0\n",
    "\n",
    "    def on_epoch_begin(self, epoch, logs = None):\n",
    "        self.current_epoch = epoch\n",
    "\n",
    "\n",
    "class TensorBoardFeatureMapVisualizer(tf.keras.callbacks.Callback):\n",
    "    def __init__(self, log_dir, frequency=1, **kwargs):\n",
    "        super().__init__(**kwargs)\n",
    "        self.freq = frequency\n",
    "        self.writer = tf.summary.create_file_writer(log_dir)\n",
    "\n",
    "    def on_epoch_begin(self, epoch, logs=None):\n",
    "        if epoch % self.freq == 0:\n",
    "            base_model = self.model.base_model\n",
    "            self.intermediate_model = tf.keras.Model(inputs=base_model.inputs,\n",
    "                                                     outputs=[layer.output for layer in base_model.layers if isinstance(layer, tf.keras.layers.Conv2D)])\n",
    "            self.subject_image = next(iter(train_dataset.take(1)))[0][0:1]\n",
    "\n",
    "    def on_epoch_end(self, epoch, logs=None):\n",
    "        if epoch % self.freq == 0:\n",
    "            feature_maps = self.intermediate_model.predict(self.subject_image)\n",
    "            with self.writer.as_default():\n",
    "                for i, feature_map in enumerate(feature_maps):\n",
    "                    feature_map = tf.reduce_mean(feature_map, axis=-1, keepdims=True)\n",
    "                    tf.summary.image('FeatureMap_{}'.format(i), feature_map, step=epoch)"
   ]
  },
  {
   "cell_type": "markdown",
   "metadata": {},
   "source": [
    "## HyperModel Tuner"
   ]
  },
  {
   "cell_type": "code",
   "execution_count": 19,
   "metadata": {},
   "outputs": [],
   "source": [
    "import keras_tuner as kt\n",
    "\n",
    "class HyperModel(kt.HyperModel):\n",
    "    def build(self, hp):\n",
    "        learning_rate = hp.Float('learning_rate', min_value = 1e-4, max_value = 1e-2, sampling= 'log')\n",
    "        optimizer = hp.Choice('optimizer', values = ['adam', 'sgd'])\n",
    "        if optimizer=='adam':\n",
    "            optimizer = tf.keras.optimizers.Adam(learning_rate = learning_rate)\n",
    "        else :\n",
    "            optimizer = tf.keras.optimizers.SGD(learning_rate = learning_rate , momentum = 0.9)    \n",
    "        model = FaceDetectionCNN()\n",
    "        model.compile(loss = tf.keras.losses.SparseCategoricalCrossentropy(),\n",
    "                      optimizer = optimizer,\n",
    "                      metrics = ['accuracy'])\n",
    "        return model"
   ]
  },
  {
   "cell_type": "code",
   "execution_count": 20,
   "metadata": {},
   "outputs": [
    {
     "name": "stdout",
     "output_type": "stream",
     "text": [
      "Reloading Tuner from FaceDetetcion Hypermodel\\FaceRecogTunerTrials\\tuner0.json\n"
     ]
    }
   ],
   "source": [
    "HyperModelTuner = kt.BayesianOptimization(hypermodel = HyperModel(),\n",
    "                                          objective= 'accuracy',\n",
    "                                          max_trials= 5,\n",
    "                                          directory = 'FaceDetetcion Hypermodel',\n",
    "                                          project_name = 'FaceRecogTunerTrials',\n",
    "                                          seed = 42)"
   ]
  },
  {
   "cell_type": "code",
   "execution_count": 21,
   "metadata": {},
   "outputs": [],
   "source": [
    "HyperModelTuner.search(train_dataset ,\n",
    "                        epochs = 8,\n",
    "                        validation_data = val_dataset,\n",
    "                        callbacks = [DelayModelGraphs(unfreeze_epoch=4)] )"
   ]
  },
  {
   "cell_type": "code",
   "execution_count": 22,
   "metadata": {},
   "outputs": [
    {
     "data": {
      "text/plain": [
       "{'learning_rate': 0.0019004375238737127, 'optimizer': 'adam'}"
      ]
     },
     "execution_count": 22,
     "metadata": {},
     "output_type": "execute_result"
    }
   ],
   "source": [
    "HyperModelTuner.get_best_hyperparameters()[0].values"
   ]
  },
  {
   "cell_type": "code",
   "execution_count": 23,
   "metadata": {},
   "outputs": [],
   "source": [
    "lr = HyperModelTuner.get_best_hyperparameters()[0].values['learning_rate']\n",
    "optm = HyperModelTuner.get_best_hyperparameters()[0].values['optimizer']"
   ]
  },
  {
   "cell_type": "code",
   "execution_count": 24,
   "metadata": {},
   "outputs": [],
   "source": [
    "model = FaceDetectionCNN()\n",
    "model.compile(loss = tf.keras.losses.SparseCategoricalCrossentropy(),\n",
    "              optimizer = tf.keras.optimizers.Adam(learning_rate=lr),\n",
    "              metrics =['accuracy'])"
   ]
  },
  {
   "cell_type": "code",
   "execution_count": 25,
   "metadata": {},
   "outputs": [
    {
     "name": "stdout",
     "output_type": "stream",
     "text": [
      "Epoch 1/50\n",
      "\u001b[1m1/1\u001b[0m \u001b[32m━━━━━━━━━━━━━━━━━━━━\u001b[0m\u001b[37m\u001b[0m \u001b[1m3s\u001b[0m 3s/stepep - accuracy: 0.1989 - loss: 66.439\n",
      "\n",
      "Epoch 1: accuracy improved from -inf to 0.17770, saving model to model\\FaceRecognition_best.keras\n",
      "\u001b[1m29/29\u001b[0m \u001b[32m━━━━━━━━━━━━━━━━━━━━\u001b[0m\u001b[37m\u001b[0m \u001b[1m209s\u001b[0m 6s/step - accuracy: 0.1982 - loss: 65.8498 - val_accuracy: 0.2807 - val_loss: 6077.9780\n",
      "Epoch 2/50\n",
      "\u001b[1m1/1\u001b[0m \u001b[32m━━━━━━━━━━━━━━━━━━━━\u001b[0m\u001b[37m\u001b[0m \u001b[1m2s\u001b[0m 2s/stepep - accuracy: 0.3240 - loss: 12.997\n",
      "\n",
      "Epoch 2: accuracy improved from 0.17770 to 0.29029, saving model to model\\FaceRecognition_best.keras\n",
      "\u001b[1m29/29\u001b[0m \u001b[32m━━━━━━━━━━━━━━━━━━━━\u001b[0m\u001b[37m\u001b[0m \u001b[1m139s\u001b[0m 5s/step - accuracy: 0.3229 - loss: 12.8861 - val_accuracy: 0.3246 - val_loss: 12.0329\n",
      "Epoch 3/50\n",
      "\u001b[1m1/1\u001b[0m \u001b[32m━━━━━━━━━━━━━━━━━━━━\u001b[0m\u001b[37m\u001b[0m \u001b[1m3s\u001b[0m 3s/stepep - accuracy: 0.1614 - loss: 4.029\n",
      "\n",
      "Epoch 3: accuracy did not improve from 0.29029\n",
      "\u001b[1m29/29\u001b[0m \u001b[32m━━━━━━━━━━━━━━━━━━━━\u001b[0m\u001b[37m\u001b[0m \u001b[1m137s\u001b[0m 5s/step - accuracy: 0.1628 - loss: 4.0069 - val_accuracy: 0.2807 - val_loss: 29975.5234\n",
      "Epoch 4/50\n",
      "\u001b[1m1/1\u001b[0m \u001b[32m━━━━━━━━━━━━━━━━━━━━\u001b[0m\u001b[37m\u001b[0m \u001b[1m2s\u001b[0m 2s/stepep - accuracy: 0.2751 - loss: 2.235\n",
      "\n",
      "Epoch 4: accuracy did not improve from 0.29029\n",
      "\u001b[1m29/29\u001b[0m \u001b[32m━━━━━━━━━━━━━━━━━━━━\u001b[0m\u001b[37m\u001b[0m \u001b[1m154s\u001b[0m 5s/step - accuracy: 0.2743 - loss: 2.2288 - val_accuracy: 0.2807 - val_loss: 5.7428\n",
      "Epoch 5/50\n",
      "\u001b[1m29/29\u001b[0m \u001b[32m━━━━━━━━━━━━━━━━━━━━\u001b[0m\u001b[37m\u001b[0m \u001b[1m0s\u001b[0m 5s/step - accuracy: 0.2360 - loss: 1.7514WARNING:tensorflow:5 out of the last 5 calls to <function TensorFlowTrainer.make_predict_function.<locals>.one_step_on_data_distributed at 0x000002A12B40D260> triggered tf.function retracing. Tracing is expensive and the excessive number of tracings could be due to (1) creating @tf.function repeatedly in a loop, (2) passing tensors with different shapes, (3) passing Python objects instead of tensors. For (1), please define your @tf.function outside of the loop. For (2), @tf.function has reduce_retracing=True option that can avoid unnecessary retracing. For (3), please refer to https://www.tensorflow.org/guide/function#controlling_retracing and https://www.tensorflow.org/api_docs/python/tf/function for  more details.\n",
      "\u001b[1m1/1\u001b[0m \u001b[32m━━━━━━━━━━━━━━━━━━━━\u001b[0m\u001b[37m\u001b[0m \u001b[1m2s\u001b[0m 2s/step\n",
      "\n",
      "Epoch 5: accuracy did not improve from 0.29029\n",
      "\u001b[1m29/29\u001b[0m \u001b[32m━━━━━━━━━━━━━━━━━━━━\u001b[0m\u001b[37m\u001b[0m \u001b[1m148s\u001b[0m 5s/step - accuracy: 0.2354 - loss: 1.7483 - val_accuracy: 0.3246 - val_loss: 1.5857\n",
      "Epoch 6/50\n",
      "\u001b[1m29/29\u001b[0m \u001b[32m━━━━━━━━━━━━━━━━━━━━\u001b[0m\u001b[37m\u001b[0m \u001b[1m0s\u001b[0m 5s/step - accuracy: 0.3515 - loss: 1.6414WARNING:tensorflow:6 out of the last 6 calls to <function TensorFlowTrainer.make_predict_function.<locals>.one_step_on_data_distributed at 0x000002A12B783240> triggered tf.function retracing. Tracing is expensive and the excessive number of tracings could be due to (1) creating @tf.function repeatedly in a loop, (2) passing tensors with different shapes, (3) passing Python objects instead of tensors. For (1), please define your @tf.function outside of the loop. For (2), @tf.function has reduce_retracing=True option that can avoid unnecessary retracing. For (3), please refer to https://www.tensorflow.org/guide/function#controlling_retracing and https://www.tensorflow.org/api_docs/python/tf/function for  more details.\n",
      "\u001b[1m1/1\u001b[0m \u001b[32m━━━━━━━━━━━━━━━━━━━━\u001b[0m\u001b[37m\u001b[0m \u001b[1m2s\u001b[0m 2s/step\n",
      "\n",
      "Epoch 6: accuracy improved from 0.29029 to 0.36645, saving model to model\\FaceRecognition_best.keras\n",
      "\u001b[1m29/29\u001b[0m \u001b[32m━━━━━━━━━━━━━━━━━━━━\u001b[0m\u001b[37m\u001b[0m \u001b[1m154s\u001b[0m 5s/step - accuracy: 0.3520 - loss: 1.6381 - val_accuracy: 0.2807 - val_loss: 1.4917\n",
      "Epoch 7/50\n",
      "\u001b[1m1/1\u001b[0m \u001b[32m━━━━━━━━━━━━━━━━━━━━\u001b[0m\u001b[37m\u001b[0m \u001b[1m4s\u001b[0m 4s/stepep - accuracy: 0.3087 - loss: 1.624\n",
      "\n",
      "Epoch 7: accuracy did not improve from 0.36645\n",
      "\u001b[1m29/29\u001b[0m \u001b[32m━━━━━━━━━━━━━━━━━━━━\u001b[0m\u001b[37m\u001b[0m \u001b[1m171s\u001b[0m 6s/step - accuracy: 0.3103 - loss: 1.6214 - val_accuracy: 0.3246 - val_loss: 1.6186\n",
      "Epoch 8/50\n",
      "\u001b[1m1/1\u001b[0m \u001b[32m━━━━━━━━━━━━━━━━━━━━\u001b[0m\u001b[37m\u001b[0m \u001b[1m3s\u001b[0m 3s/stepep - accuracy: 0.2180 - loss: 1.801\n",
      "\n",
      "Epoch 8: accuracy did not improve from 0.36645\n",
      "\u001b[1m29/29\u001b[0m \u001b[32m━━━━━━━━━━━━━━━━━━━━\u001b[0m\u001b[37m\u001b[0m \u001b[1m152s\u001b[0m 5s/step - accuracy: 0.2218 - loss: 1.7961 - val_accuracy: 0.2807 - val_loss: 1.6930\n",
      "Epoch 9/50\n",
      "\u001b[1m1/1\u001b[0m \u001b[32m━━━━━━━━━━━━━━━━━━━━\u001b[0m\u001b[37m\u001b[0m \u001b[1m3s\u001b[0m 3s/stepep - accuracy: 0.1077 - loss: 1.970\n",
      "\n",
      "Epoch 9: accuracy did not improve from 0.36645\n",
      "\u001b[1m29/29\u001b[0m \u001b[32m━━━━━━━━━━━━━━━━━━━━\u001b[0m\u001b[37m\u001b[0m \u001b[1m141s\u001b[0m 5s/step - accuracy: 0.1135 - loss: 1.9631 - val_accuracy: 0.2807 - val_loss: 2.3380\n",
      "Epoch 10/50\n",
      "\u001b[1m1/1\u001b[0m \u001b[32m━━━━━━━━━━━━━━━━━━━━\u001b[0m\u001b[37m\u001b[0m \u001b[1m4s\u001b[0m 4s/stepep - accuracy: 0.0490 - loss: 2.551\n",
      "\n",
      "Epoch 10: accuracy did not improve from 0.36645\n",
      "\u001b[1m29/29\u001b[0m \u001b[32m━━━━━━━━━━━━━━━━━━━━\u001b[0m\u001b[37m\u001b[0m \u001b[1m152s\u001b[0m 5s/step - accuracy: 0.0535 - loss: 2.5377 - val_accuracy: 0.2807 - val_loss: 343.6124\n",
      "Epoch 11/50\n",
      "\u001b[1m1/1\u001b[0m \u001b[32m━━━━━━━━━━━━━━━━━━━━\u001b[0m\u001b[37m\u001b[0m \u001b[1m2s\u001b[0m 2s/stepep - accuracy: 0.2135 - loss: 2.163\n",
      "\n",
      "Epoch 11: accuracy did not improve from 0.36645\n",
      "\u001b[1m29/29\u001b[0m \u001b[32m━━━━━━━━━━━━━━━━━━━━\u001b[0m\u001b[37m\u001b[0m \u001b[1m155s\u001b[0m 5s/step - accuracy: 0.2149 - loss: 2.1528 - val_accuracy: 0.2807 - val_loss: 7415.5586\n",
      "Epoch 12/50\n",
      "\u001b[1m1/1\u001b[0m \u001b[32m━━━━━━━━━━━━━━━━━━━━\u001b[0m\u001b[37m\u001b[0m \u001b[1m2s\u001b[0m 2s/stepep - accuracy: 0.2003 - loss: 1.742\n",
      "\n",
      "Epoch 12: accuracy did not improve from 0.36645\n",
      "\u001b[1m29/29\u001b[0m \u001b[32m━━━━━━━━━━━━━━━━━━━━\u001b[0m\u001b[37m\u001b[0m \u001b[1m142s\u001b[0m 5s/step - accuracy: 0.2000 - loss: 1.7393 - val_accuracy: 0.2807 - val_loss: 1411.8513\n",
      "Epoch 13/50\n",
      "\u001b[1m1/1\u001b[0m \u001b[32m━━━━━━━━━━━━━━━━━━━━\u001b[0m\u001b[37m\u001b[0m \u001b[1m2s\u001b[0m 2s/stepep - accuracy: 0.2190 - loss: 1.576\n",
      "\n",
      "Epoch 13: accuracy did not improve from 0.36645\n",
      "\u001b[1m29/29\u001b[0m \u001b[32m━━━━━━━━━━━━━━━━━━━━\u001b[0m\u001b[37m\u001b[0m \u001b[1m144s\u001b[0m 5s/step - accuracy: 0.2191 - loss: 1.5734 - val_accuracy: 0.2807 - val_loss: 1.4339\n",
      "Epoch 14/50\n",
      "\u001b[1m1/1\u001b[0m \u001b[32m━━━━━━━━━━━━━━━━━━━━\u001b[0m\u001b[37m\u001b[0m \u001b[1m2s\u001b[0m 2s/stepep - accuracy: 0.3864 - loss: 1.544\n",
      "\n",
      "Epoch 14: accuracy improved from 0.36645 to 0.39956, saving model to model\\FaceRecognition_best.keras\n",
      "\u001b[1m29/29\u001b[0m \u001b[32m━━━━━━━━━━━━━━━━━━━━\u001b[0m\u001b[37m\u001b[0m \u001b[1m143s\u001b[0m 5s/step - accuracy: 0.3869 - loss: 1.5412 - val_accuracy: 0.2807 - val_loss: 1.4750\n",
      "Epoch 15/50\n",
      "\u001b[1m1/1\u001b[0m \u001b[32m━━━━━━━━━━━━━━━━━━━━\u001b[0m\u001b[37m\u001b[0m \u001b[1m5s\u001b[0m 5s/stepep - accuracy: 0.1356 - loss: 1.630\n",
      "\n",
      "Epoch 15: accuracy did not improve from 0.39956\n",
      "\u001b[1m29/29\u001b[0m \u001b[32m━━━━━━━━━━━━━━━━━━━━\u001b[0m\u001b[37m\u001b[0m \u001b[1m149s\u001b[0m 5s/step - accuracy: 0.1369 - loss: 1.6261 - val_accuracy: 0.2763 - val_loss: 1.5182\n",
      "Unfreezing base model\n",
      "Epoch 16/50\n",
      "\u001b[1m1/1\u001b[0m \u001b[32m━━━━━━━━━━━━━━━━━━━━\u001b[0m\u001b[37m\u001b[0m \u001b[1m2s\u001b[0m 2s/stepep - accuracy: 0.3377 - loss: 1.668\n",
      "\n",
      "Epoch 16: accuracy did not improve from 0.39956\n",
      "\u001b[1m29/29\u001b[0m \u001b[32m━━━━━━━━━━━━━━━━━━━━\u001b[0m\u001b[37m\u001b[0m \u001b[1m150s\u001b[0m 5s/step - accuracy: 0.3395 - loss: 1.6633 - val_accuracy: 0.2982 - val_loss: 2.5317\n",
      "Epoch 17/50\n",
      "\u001b[1m1/1\u001b[0m \u001b[32m━━━━━━━━━━━━━━━━━━━━\u001b[0m\u001b[37m\u001b[0m \u001b[1m2s\u001b[0m 2s/stepep - accuracy: 0.2509 - loss: 1.644\n",
      "\n",
      "Epoch 17: accuracy did not improve from 0.39956\n",
      "\u001b[1m29/29\u001b[0m \u001b[32m━━━━━━━━━━━━━━━━━━━━\u001b[0m\u001b[37m\u001b[0m \u001b[1m150s\u001b[0m 5s/step - accuracy: 0.2539 - loss: 1.6406 - val_accuracy: 0.2807 - val_loss: 1.5958\n",
      "Epoch 18/50\n",
      "\u001b[1m1/1\u001b[0m \u001b[32m━━━━━━━━━━━━━━━━━━━━\u001b[0m\u001b[37m\u001b[0m \u001b[1m2s\u001b[0m 2s/stepep - accuracy: 0.3748 - loss: 1.825\n",
      "\n",
      "Epoch 18: accuracy improved from 0.39956 to 0.49448, saving model to model\\FaceRecognition_best.keras\n",
      "\u001b[1m29/29\u001b[0m \u001b[32m━━━━━━━━━━━━━━━━━━━━\u001b[0m\u001b[37m\u001b[0m \u001b[1m150s\u001b[0m 5s/step - accuracy: 0.3788 - loss: 1.8211 - val_accuracy: 0.2807 - val_loss: 1.7243\n",
      "Epoch 19/50\n",
      "\u001b[1m1/1\u001b[0m \u001b[32m━━━━━━━━━━━━━━━━━━━━\u001b[0m\u001b[37m\u001b[0m \u001b[1m4s\u001b[0m 4s/stepep - accuracy: 0.3397 - loss: 2.003\n",
      "\n",
      "Epoch 19: accuracy did not improve from 0.49448\n",
      "\u001b[1m29/29\u001b[0m \u001b[32m━━━━━━━━━━━━━━━━━━━━\u001b[0m\u001b[37m\u001b[0m \u001b[1m149s\u001b[0m 5s/step - accuracy: 0.3425 - loss: 1.9947 - val_accuracy: 0.2807 - val_loss: 1.8417\n",
      "Epoch 20/50\n",
      "\u001b[1m1/1\u001b[0m \u001b[32m━━━━━━━━━━━━━━━━━━━━\u001b[0m\u001b[37m\u001b[0m \u001b[1m3s\u001b[0m 3s/stepep - accuracy: 0.3705 - loss: 2.265\n",
      "\n",
      "Epoch 20: accuracy did not improve from 0.49448\n",
      "\u001b[1m29/29\u001b[0m \u001b[32m━━━━━━━━━━━━━━━━━━━━\u001b[0m\u001b[37m\u001b[0m \u001b[1m147s\u001b[0m 5s/step - accuracy: 0.3737 - loss: 2.2573 - val_accuracy: 0.2807 - val_loss: 1.9156\n",
      "Epoch 21/50\n",
      "\u001b[1m1/1\u001b[0m \u001b[32m━━━━━━━━━━━━━━━━━━━━\u001b[0m\u001b[37m\u001b[0m \u001b[1m2s\u001b[0m 2s/stepep - accuracy: 0.4054 - loss: 2.106\n",
      "\n",
      "Epoch 21: accuracy improved from 0.49448 to 0.49890, saving model to model\\FaceRecognition_best.keras\n",
      "\u001b[1m29/29\u001b[0m \u001b[32m━━━━━━━━━━━━━━━━━━━━\u001b[0m\u001b[37m\u001b[0m \u001b[1m148s\u001b[0m 5s/step - accuracy: 0.4085 - loss: 2.0996 - val_accuracy: 0.2807 - val_loss: 2.2781\n",
      "Epoch 22/50\n",
      "\u001b[1m1/1\u001b[0m \u001b[32m━━━━━━━━━━━━━━━━━━━━\u001b[0m\u001b[37m\u001b[0m \u001b[1m3s\u001b[0m 3s/stepep - accuracy: 0.3551 - loss: 2.302\n",
      "\n",
      "Epoch 22: accuracy did not improve from 0.49890\n",
      "\u001b[1m29/29\u001b[0m \u001b[32m━━━━━━━━━━━━━━━━━━━━\u001b[0m\u001b[37m\u001b[0m \u001b[1m147s\u001b[0m 5s/step - accuracy: 0.3589 - loss: 2.2948 - val_accuracy: 0.1140 - val_loss: 3381.8848\n",
      "Epoch 23/50\n",
      "\u001b[1m1/1\u001b[0m \u001b[32m━━━━━━━━━━━━━━━━━━━━\u001b[0m\u001b[37m\u001b[0m \u001b[1m2s\u001b[0m 2s/stepep - accuracy: 0.3172 - loss: 2.340\n",
      "\n",
      "Epoch 23: accuracy did not improve from 0.49890\n",
      "\u001b[1m29/29\u001b[0m \u001b[32m━━━━━━━━━━━━━━━━━━━━\u001b[0m\u001b[37m\u001b[0m \u001b[1m148s\u001b[0m 5s/step - accuracy: 0.3207 - loss: 2.3344 - val_accuracy: 0.2807 - val_loss: 1990.9132\n",
      "Epoch 24/50\n",
      "\u001b[1m1/1\u001b[0m \u001b[32m━━━━━━━━━━━━━━━━━━━━\u001b[0m\u001b[37m\u001b[0m \u001b[1m2s\u001b[0m 2s/stepep - accuracy: 0.2808 - loss: 2.528\n",
      "\n",
      "Epoch 24: accuracy did not improve from 0.49890\n",
      "\u001b[1m29/29\u001b[0m \u001b[32m━━━━━━━━━━━━━━━━━━━━\u001b[0m\u001b[37m\u001b[0m \u001b[1m141s\u001b[0m 5s/step - accuracy: 0.2856 - loss: 2.5229 - val_accuracy: 0.2807 - val_loss: 2.4456\n",
      "Epoch 25/50\n",
      "\u001b[1m1/1\u001b[0m \u001b[32m━━━━━━━━━━━━━━━━━━━━\u001b[0m\u001b[37m\u001b[0m \u001b[1m2s\u001b[0m 2s/stepep - accuracy: 0.2099 - loss: 2.475\n",
      "\n",
      "Epoch 25: accuracy did not improve from 0.49890\n",
      "\u001b[1m29/29\u001b[0m \u001b[32m━━━━━━━━━━━━━━━━━━━━\u001b[0m\u001b[37m\u001b[0m \u001b[1m140s\u001b[0m 5s/step - accuracy: 0.2151 - loss: 2.4646 - val_accuracy: 0.2807 - val_loss: 2.0450\n",
      "Epoch 26/50\n",
      "\u001b[1m1/1\u001b[0m \u001b[32m━━━━━━━━━━━━━━━━━━━━\u001b[0m\u001b[37m\u001b[0m \u001b[1m3s\u001b[0m 3s/stepep - accuracy: 0.3269 - loss: 2.156\n",
      "\n",
      "Epoch 26: accuracy did not improve from 0.49890\n",
      "\u001b[1m29/29\u001b[0m \u001b[32m━━━━━━━━━━━━━━━━━━━━\u001b[0m\u001b[37m\u001b[0m \u001b[1m144s\u001b[0m 5s/step - accuracy: 0.3313 - loss: 2.1475 - val_accuracy: 0.2807 - val_loss: 136.9278\n",
      "Epoch 27/50\n",
      "\u001b[1m1/1\u001b[0m \u001b[32m━━━━━━━━━━━━━━━━━━━━\u001b[0m\u001b[37m\u001b[0m \u001b[1m2s\u001b[0m 2s/stepep - accuracy: 0.2437 - loss: 2.206\n",
      "\n",
      "Epoch 27: accuracy did not improve from 0.49890\n",
      "\u001b[1m29/29\u001b[0m \u001b[32m━━━━━━━━━━━━━━━━━━━━\u001b[0m\u001b[37m\u001b[0m \u001b[1m144s\u001b[0m 5s/step - accuracy: 0.2446 - loss: 2.2028 - val_accuracy: 0.2807 - val_loss: 381.5067\n",
      "Epoch 28/50\n",
      "\u001b[1m1/1\u001b[0m \u001b[32m━━━━━━━━━━━━━━━━━━━━\u001b[0m\u001b[37m\u001b[0m \u001b[1m2s\u001b[0m 2s/stepep - accuracy: 0.2782 - loss: 2.222\n",
      "\n",
      "Epoch 28: accuracy did not improve from 0.49890\n",
      "\u001b[1m29/29\u001b[0m \u001b[32m━━━━━━━━━━━━━━━━━━━━\u001b[0m\u001b[37m\u001b[0m \u001b[1m143s\u001b[0m 5s/step - accuracy: 0.2833 - loss: 2.2159 - val_accuracy: 0.2807 - val_loss: 616.8727\n",
      "Epoch 29/50\n",
      "\u001b[1m1/1\u001b[0m \u001b[32m━━━━━━━━━━━━━━━━━━━━\u001b[0m\u001b[37m\u001b[0m \u001b[1m2s\u001b[0m 2s/stepep - accuracy: 0.2501 - loss: 2.325\n",
      "\n",
      "Epoch 29: accuracy did not improve from 0.49890\n",
      "\u001b[1m29/29\u001b[0m \u001b[32m━━━━━━━━━━━━━━━━━━━━\u001b[0m\u001b[37m\u001b[0m \u001b[1m142s\u001b[0m 5s/step - accuracy: 0.2561 - loss: 2.3146 - val_accuracy: 0.2807 - val_loss: 14.5874\n",
      "Epoch 30/50\n",
      "\u001b[1m1/1\u001b[0m \u001b[32m━━━━━━━━━━━━━━━━━━━━\u001b[0m\u001b[37m\u001b[0m \u001b[1m2s\u001b[0m 2s/stepep - accuracy: 0.3454 - loss: 2.308\n",
      "\n",
      "Epoch 30: accuracy did not improve from 0.49890\n",
      "\u001b[1m29/29\u001b[0m \u001b[32m━━━━━━━━━━━━━━━━━━━━\u001b[0m\u001b[37m\u001b[0m \u001b[1m147s\u001b[0m 5s/step - accuracy: 0.3502 - loss: 2.2958 - val_accuracy: 0.2807 - val_loss: 2.6104\n",
      "Epoch 31/50\n",
      "\u001b[1m1/1\u001b[0m \u001b[32m━━━━━━━━━━━━━━━━━━━━\u001b[0m\u001b[37m\u001b[0m \u001b[1m2s\u001b[0m 2s/stepep - accuracy: 0.2182 - loss: 2.942\n",
      "\n",
      "Epoch 31: accuracy did not improve from 0.49890\n",
      "\u001b[1m29/29\u001b[0m \u001b[32m━━━━━━━━━━━━━━━━━━━━\u001b[0m\u001b[37m\u001b[0m \u001b[1m149s\u001b[0m 5s/step - accuracy: 0.2237 - loss: 2.9227 - val_accuracy: 0.1140 - val_loss: 9.5337\n",
      "Epoch 32/50\n",
      "\u001b[1m1/1\u001b[0m \u001b[32m━━━━━━━━━━━━━━━━━━━━\u001b[0m\u001b[37m\u001b[0m \u001b[1m2s\u001b[0m 2s/stepep - accuracy: 0.4115 - loss: 2.387\n",
      "\n",
      "Epoch 32: accuracy improved from 0.49890 to 0.59934, saving model to model\\FaceRecognition_best.keras\n",
      "\u001b[1m29/29\u001b[0m \u001b[32m━━━━━━━━━━━━━━━━━━━━\u001b[0m\u001b[37m\u001b[0m \u001b[1m152s\u001b[0m 5s/step - accuracy: 0.4178 - loss: 2.3749 - val_accuracy: 0.2807 - val_loss: 3692.8174\n",
      "Epoch 33/50\n",
      "\u001b[1m1/1\u001b[0m \u001b[32m━━━━━━━━━━━━━━━━━━━━\u001b[0m\u001b[37m\u001b[0m \u001b[1m2s\u001b[0m 2s/stepep - accuracy: 0.2585 - loss: 3.379\n",
      "\n",
      "Epoch 33: accuracy did not improve from 0.59934\n",
      "\u001b[1m29/29\u001b[0m \u001b[32m━━━━━━━━━━━━━━━━━━━━\u001b[0m\u001b[37m\u001b[0m \u001b[1m140s\u001b[0m 5s/step - accuracy: 0.2641 - loss: 3.3566 - val_accuracy: 0.2807 - val_loss: 42191.6445\n",
      "Epoch 34/50\n",
      "\u001b[1m1/1\u001b[0m \u001b[32m━━━━━━━━━━━━━━━━━━━━\u001b[0m\u001b[37m\u001b[0m \u001b[1m2s\u001b[0m 2s/stepep - accuracy: 0.3127 - loss: 3.148\n",
      "\n",
      "Epoch 34: accuracy did not improve from 0.59934\n",
      "\u001b[1m29/29\u001b[0m \u001b[32m━━━━━━━━━━━━━━━━━━━━\u001b[0m\u001b[37m\u001b[0m \u001b[1m133s\u001b[0m 5s/step - accuracy: 0.3184 - loss: 3.1349 - val_accuracy: 0.2807 - val_loss: 44.6700\n",
      "Epoch 35/50\n",
      "\u001b[1m1/1\u001b[0m \u001b[32m━━━━━━━━━━━━━━━━━━━━\u001b[0m\u001b[37m\u001b[0m \u001b[1m2s\u001b[0m 2s/stepep - accuracy: 0.2660 - loss: 2.763\n",
      "\n",
      "Epoch 35: accuracy did not improve from 0.59934\n",
      "\u001b[1m29/29\u001b[0m \u001b[32m━━━━━━━━━━━━━━━━━━━━\u001b[0m\u001b[37m\u001b[0m \u001b[1m130s\u001b[0m 4s/step - accuracy: 0.2717 - loss: 2.7517 - val_accuracy: 0.2807 - val_loss: 41.5677\n",
      "Epoch 36/50\n",
      "\u001b[1m1/1\u001b[0m \u001b[32m━━━━━━━━━━━━━━━━━━━━\u001b[0m\u001b[37m\u001b[0m \u001b[1m2s\u001b[0m 2s/stepep - accuracy: 0.0897 - loss: 2.674\n",
      "\n",
      "Epoch 36: accuracy did not improve from 0.59934\n",
      "\u001b[1m29/29\u001b[0m \u001b[32m━━━━━━━━━━━━━━━━━━━━\u001b[0m\u001b[37m\u001b[0m \u001b[1m128s\u001b[0m 4s/step - accuracy: 0.0929 - loss: 2.6604 - val_accuracy: 0.2807 - val_loss: 675.1643\n",
      "Epoch 37/50\n",
      "\u001b[1m1/1\u001b[0m \u001b[32m━━━━━━━━━━━━━━━━━━━━\u001b[0m\u001b[37m\u001b[0m \u001b[1m2s\u001b[0m 2s/stepep - accuracy: 0.1097 - loss: 2.048\n",
      "\n",
      "Epoch 37: accuracy did not improve from 0.59934\n",
      "\u001b[1m29/29\u001b[0m \u001b[32m━━━━━━━━━━━━━━━━━━━━\u001b[0m\u001b[37m\u001b[0m \u001b[1m129s\u001b[0m 4s/step - accuracy: 0.1148 - loss: 2.0397 - val_accuracy: 0.2807 - val_loss: 37.4552\n",
      "Epoch 38/50\n",
      "\u001b[1m1/1\u001b[0m \u001b[32m━━━━━━━━━━━━━━━━━━━━\u001b[0m\u001b[37m\u001b[0m \u001b[1m2s\u001b[0m 2s/stepep - accuracy: 0.1197 - loss: 1.871\n",
      "\n",
      "Epoch 38: accuracy did not improve from 0.59934\n",
      "\u001b[1m29/29\u001b[0m \u001b[32m━━━━━━━━━━━━━━━━━━━━\u001b[0m\u001b[37m\u001b[0m \u001b[1m130s\u001b[0m 4s/step - accuracy: 0.1222 - loss: 1.8641 - val_accuracy: 0.2807 - val_loss: 1.6158\n",
      "Epoch 39/50\n",
      "\u001b[1m1/1\u001b[0m \u001b[32m━━━━━━━━━━━━━━━━━━━━\u001b[0m\u001b[37m\u001b[0m \u001b[1m2s\u001b[0m 2s/stepep - accuracy: 0.0853 - loss: 1.923\n",
      "\n",
      "Epoch 39: accuracy did not improve from 0.59934\n",
      "\u001b[1m29/29\u001b[0m \u001b[32m━━━━━━━━━━━━━━━━━━━━\u001b[0m\u001b[37m\u001b[0m \u001b[1m137s\u001b[0m 5s/step - accuracy: 0.0908 - loss: 1.9183 - val_accuracy: 0.2807 - val_loss: 1.5996\n",
      "Epoch 40/50\n",
      "\u001b[1m1/1\u001b[0m \u001b[32m━━━━━━━━━━━━━━━━━━━━\u001b[0m\u001b[37m\u001b[0m \u001b[1m2s\u001b[0m 2s/stepep - accuracy: 0.1771 - loss: 2.029\n",
      "\n",
      "Epoch 40: accuracy did not improve from 0.59934\n",
      "\u001b[1m29/29\u001b[0m \u001b[32m━━━━━━━━━━━━━━━━━━━━\u001b[0m\u001b[37m\u001b[0m \u001b[1m136s\u001b[0m 5s/step - accuracy: 0.1817 - loss: 2.0229 - val_accuracy: 0.2807 - val_loss: 1.6126\n",
      "Epoch 41/50\n",
      "\u001b[1m1/1\u001b[0m \u001b[32m━━━━━━━━━━━━━━━━━━━━\u001b[0m\u001b[37m\u001b[0m \u001b[1m2s\u001b[0m 2s/stepep - accuracy: 0.0639 - loss: 1.976\n",
      "\n",
      "Epoch 41: accuracy did not improve from 0.59934\n",
      "\u001b[1m29/29\u001b[0m \u001b[32m━━━━━━━━━━━━━━━━━━━━\u001b[0m\u001b[37m\u001b[0m \u001b[1m138s\u001b[0m 5s/step - accuracy: 0.0683 - loss: 1.9662 - val_accuracy: 0.2807 - val_loss: 1.5295\n",
      "Epoch 42/50\n",
      "\u001b[1m1/1\u001b[0m \u001b[32m━━━━━━━━━━━━━━━━━━━━\u001b[0m\u001b[37m\u001b[0m \u001b[1m2s\u001b[0m 2s/stepep - accuracy: 0.0628 - loss: 1.684\n",
      "\n",
      "Epoch 42: accuracy did not improve from 0.59934\n",
      "\u001b[1m29/29\u001b[0m \u001b[32m━━━━━━━━━━━━━━━━━━━━\u001b[0m\u001b[37m\u001b[0m \u001b[1m133s\u001b[0m 5s/step - accuracy: 0.0655 - loss: 1.6791 - val_accuracy: 0.2807 - val_loss: 1.4450\n",
      "Epoch 43/50\n",
      "\u001b[1m1/1\u001b[0m \u001b[32m━━━━━━━━━━━━━━━━━━━━\u001b[0m\u001b[37m\u001b[0m \u001b[1m2s\u001b[0m 2s/stepep - accuracy: 0.3093 - loss: 1.620\n",
      "\n",
      "Epoch 43: accuracy did not improve from 0.59934\n",
      "\u001b[1m29/29\u001b[0m \u001b[32m━━━━━━━━━━━━━━━━━━━━\u001b[0m\u001b[37m\u001b[0m \u001b[1m134s\u001b[0m 5s/step - accuracy: 0.3117 - loss: 1.6150 - val_accuracy: 0.2807 - val_loss: 1.3939\n",
      "Epoch 44/50\n",
      "\u001b[1m1/1\u001b[0m \u001b[32m━━━━━━━━━━━━━━━━━━━━\u001b[0m\u001b[37m\u001b[0m \u001b[1m2s\u001b[0m 2s/stepep - accuracy: 0.0836 - loss: 1.601\n",
      "\n",
      "Epoch 44: accuracy did not improve from 0.59934\n",
      "\u001b[1m29/29\u001b[0m \u001b[32m━━━━━━━━━━━━━━━━━━━━\u001b[0m\u001b[37m\u001b[0m \u001b[1m134s\u001b[0m 5s/step - accuracy: 0.0887 - loss: 1.5956 - val_accuracy: 0.2807 - val_loss: 1.4507\n",
      "Epoch 45/50\n",
      "\u001b[1m1/1\u001b[0m \u001b[32m━━━━━━━━━━━━━━━━━━━━\u001b[0m\u001b[37m\u001b[0m \u001b[1m2s\u001b[0m 2s/stepep - accuracy: 0.0198 - loss: 1.585\n",
      "\n",
      "Epoch 45: accuracy did not improve from 0.59934\n",
      "\u001b[1m29/29\u001b[0m \u001b[32m━━━━━━━━━━━━━━━━━━━━\u001b[0m\u001b[37m\u001b[0m \u001b[1m151s\u001b[0m 5s/step - accuracy: 0.0203 - loss: 1.5813 - val_accuracy: 0.3246 - val_loss: 1.4222\n",
      "Epoch 46/50\n",
      "\u001b[1m1/1\u001b[0m \u001b[32m━━━━━━━━━━━━━━━━━━━━\u001b[0m\u001b[37m\u001b[0m \u001b[1m2s\u001b[0m 2s/stepep - accuracy: 0.3870 - loss: 1.589\n",
      "\n",
      "Epoch 46: accuracy did not improve from 0.59934\n",
      "\u001b[1m29/29\u001b[0m \u001b[32m━━━━━━━━━━━━━━━━━━━━\u001b[0m\u001b[37m\u001b[0m \u001b[1m151s\u001b[0m 5s/step - accuracy: 0.3908 - loss: 1.5829 - val_accuracy: 0.2807 - val_loss: 1.4014\n",
      "Epoch 47/50\n",
      "\u001b[1m1/1\u001b[0m \u001b[32m━━━━━━━━━━━━━━━━━━━━\u001b[0m\u001b[37m\u001b[0m \u001b[1m2s\u001b[0m 2s/stepep - accuracy: 0.1253 - loss: 1.699\n",
      "\n",
      "Epoch 47: accuracy did not improve from 0.59934\n",
      "\u001b[1m29/29\u001b[0m \u001b[32m━━━━━━━━━━━━━━━━━━━━\u001b[0m\u001b[37m\u001b[0m \u001b[1m151s\u001b[0m 5s/step - accuracy: 0.1252 - loss: 1.6928 - val_accuracy: 0.3246 - val_loss: 1.4003\n",
      "Epoch 48/50\n",
      "\u001b[1m1/1\u001b[0m \u001b[32m━━━━━━━━━━━━━━━━━━━━\u001b[0m\u001b[37m\u001b[0m \u001b[1m2s\u001b[0m 2s/stepep - accuracy: 0.3801 - loss: 1.563\n",
      "\n",
      "Epoch 48: accuracy did not improve from 0.59934\n",
      "\u001b[1m29/29\u001b[0m \u001b[32m━━━━━━━━━━━━━━━━━━━━\u001b[0m\u001b[37m\u001b[0m \u001b[1m145s\u001b[0m 5s/step - accuracy: 0.3776 - loss: 1.5578 - val_accuracy: 0.3246 - val_loss: 1.3676\n",
      "Epoch 49/50\n",
      "\u001b[1m1/1\u001b[0m \u001b[32m━━━━━━━━━━━━━━━━━━━━\u001b[0m\u001b[37m\u001b[0m \u001b[1m2s\u001b[0m 2s/stepep - accuracy: 0.1676 - loss: 1.563\n",
      "\n",
      "Epoch 49: accuracy did not improve from 0.59934\n",
      "\u001b[1m29/29\u001b[0m \u001b[32m━━━━━━━━━━━━━━━━━━━━\u001b[0m\u001b[37m\u001b[0m \u001b[1m144s\u001b[0m 5s/step - accuracy: 0.1671 - loss: 1.5574 - val_accuracy: 0.3246 - val_loss: 1.3603\n",
      "Epoch 50/50\n",
      "\u001b[1m1/1\u001b[0m \u001b[32m━━━━━━━━━━━━━━━━━━━━\u001b[0m\u001b[37m\u001b[0m \u001b[1m3s\u001b[0m 3s/stepep - accuracy: 0.3639 - loss: 1.560\n",
      "\n",
      "Epoch 50: accuracy did not improve from 0.59934\n",
      "\u001b[1m29/29\u001b[0m \u001b[32m━━━━━━━━━━━━━━━━━━━━\u001b[0m\u001b[37m\u001b[0m \u001b[1m153s\u001b[0m 5s/step - accuracy: 0.3618 - loss: 1.5547 - val_accuracy: 0.3246 - val_loss: 1.3568\n"
     ]
    }
   ],
   "source": [
    "history = model.fit(train_dataset , epochs = 50 , callbacks = [TensorBoardFeatureMapVisualizer(str(logdir)),\n",
    "                                                               DelayModelGraphs(15),\n",
    "                                                               tf.keras.callbacks.ModelCheckpoint(filepath = model_path,\n",
    "                                                                                                  monitor = 'accuracy',\n",
    "                                                                                                  save_weights_only = False,\n",
    "                                                                                                  save_best_only = True,\n",
    "                                                                                                  verbose = 1),\n",
    "                                                               tf.keras.callbacks.TensorBoard(str(logdir),\n",
    "                                                                                              histogram_freq = 1,\n",
    "                                                                                              write_graph = True,\n",
    "                                                                                              write_images = True)],\n",
    "                    validation_data = val_dataset)"
   ]
  },
  {
   "cell_type": "code",
   "execution_count": 26,
   "metadata": {},
   "outputs": [
    {
     "data": {
      "image/png": "[encoded data removed]",
      "text/plain": [
       "<Figure size 800x500 with 1 Axes>"
      ]
     },
     "metadata": {},
     "output_type": "display_data"
    }
   ],
   "source": [
    "pd.DataFrame(history.history).plot(figsize = (8,5), xlim = [0,50] , ylim = [0,1], grid = True , xlabel = 'Epoch', \n",
    "                                   style = ['r--', 'r--.', 'b-', 'b-*'])\n",
    "plt.show()"
   ]
  },
  {
   "cell_type": "markdown",
   "metadata": {},
   "source": []
  }
 ],
 "metadata": {
  "kernelspec": {
   "display_name": "Python 3",
   "language": "python",
   "name": "python3"
  },
  "language_info": {
   "codemirror_mode": {
    "name": "ipython",
    "version": 3
   },
   "file_extension": ".py",
   "mimetype": "text/x-python",
   "name": "python",
   "nbconvert_exporter": "python",
   "pygments_lexer": "ipython3",
   "version": "3.11.5"
  }
 },
 "nbformat": 4,
 "nbformat_minor": 2
}
